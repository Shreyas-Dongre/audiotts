{
  "nbformat": 4,
  "nbformat_minor": 0,
  "metadata": {
    "colab": {
      "provenance": [],
      "gpuType": "T4"
    },
    "kernelspec": {
      "name": "python3",
      "display_name": "Python 3"
    },
    "language_info": {
      "name": "python"
    },
    "accelerator": "GPU"
  },
  "cells": [
    {
      "cell_type": "code",
      "source": [
        "! pip install pydub edge_tts webrtcvad git+https://github.com/openai/whisper.git"
      ],
      "metadata": {
        "id": "ZwApxZBvAK8L"
      },
      "execution_count": null,
      "outputs": []
    },
    {
      "cell_type": "code",
      "source": [
        "# Import necessary libraries\n",
        "import whisper\n",
        "import torch\n",
        "from transformers import pipeline\n",
        "import edge_tts\n",
        "from pydub import AudioSegment\n",
        "import webrtcvad\n",
        "import numpy as np\n",
        "import wave"
      ],
      "metadata": {
        "id": "QehZ1X7G_LjG"
      },
      "execution_count": 2,
      "outputs": []
    },
    {
      "cell_type": "code",
      "execution_count": 3,
      "metadata": {
        "id": "_AKyeS4y-zKC"
      },
      "outputs": [],
      "source": [
        "# Step 1: Voice-to-Text Conversion\n",
        "def voice_to_text(audio_file_path):\n",
        "    # Load Whisper model\n",
        "    model = whisper.load_model(\"base.en\")\n",
        "\n",
        "    # Perform speech-to-text\n",
        "    result = model.transcribe(audio_file_path, language='en')\n",
        "    text = result['text']\n",
        "    return text"
      ]
    },
    {
      "cell_type": "code",
      "source": [
        "# Frame generator function for VAD\n",
        "def frame_generator(frame_duration_ms, audio, sample_rate):\n",
        "    n = int(sample_rate * (frame_duration_ms / 1000.0) * 2)\n",
        "    offset = 0\n",
        "    while offset + n < len(audio):\n",
        "        yield audio[offset:offset + n]\n",
        "        offset += n\n"
      ],
      "metadata": {
        "id": "-ghp0L_1-5Ek"
      },
      "execution_count": 4,
      "outputs": []
    },
    {
      "cell_type": "code",
      "source": [
        "# Step 2: Text Input into LLM\n",
        "def query_llm(text):\n",
        "    # Use Hugging Face transformers pipeline with a pre-trained model\n",
        "    llm = pipeline(\"text-generation\", model=\"gpt2\")  # Replace with preferred LLM\n",
        "    response = llm(text, max_length=50, num_return_sequences=1)\n",
        "\n",
        "    # Restrict the output to a maximum of 2 sentences\n",
        "    sentences = response[0]['generated_text'].split('. ')\n",
        "    response_text = '. '.join(sentences[:2])\n",
        "    return response_text\n",
        "\n"
      ],
      "metadata": {
        "id": "LE9xIRR7-5CJ"
      },
      "execution_count": 5,
      "outputs": []
    },
    {
      "cell_type": "code",
      "source": [
        "# Step 3: Text-to-Speech Conversion\n",
        "import asyncio\n",
        "async def amain(text, voice='male', pitch=1.0, speed=1.0, output_file='output.mp3'):\n",
        "    # Convert text to speech with tunable parameters\n",
        "    communicator = edge_tts.Communicate(text, voice)\n",
        "    await communicator.save(output_file)\n",
        "    return output_file"
      ],
      "metadata": {
        "id": "RtN8j8KO-4_g"
      },
      "execution_count": 6,
      "outputs": []
    },
    {
      "cell_type": "code",
      "source": [
        "response_text = 0\n",
        "async def main():\n",
        "    global response_text\n",
        "    audio_file = \"/content/girl-voice-answering-phone-100740.wav\"  # Replace with your audio file path\n",
        "    text = voice_to_text(audio_file)  # Assuming voice_to_text is defined elsewhere\n",
        "    print(\"Recognized Text:\", text)\n",
        "\n",
        "    response_text = query_llm(text)  # Assuming query_llm is defined elsewhere\n",
        "    print(\"LLM Response:\", response_text)\n",
        "\n",
        "    output_audio_file = await amain(response_text, voice='en-US-GuyNeural', pitch=\"+0Hz\", speed=\"+0%\")\n",
        "    print(\"Speech synthesized to:\", output_audio_file)\n",
        "\n",
        "# Properly run the async main function\n",
        "try:\n",
        "    loop = asyncio.get_running_loop()\n",
        "except RuntimeError:  # No running loop\n",
        "    loop = None\n",
        "\n",
        "if loop and loop.is_running():\n",
        "    # If we're in an environment with a running loop (like Jupyter), use the loop to create a task\n",
        "    task = loop.create_task(main())\n",
        "else:\n",
        "    # If there's no loop running, we can safely use asyncio.run()\n",
        "    asyncio.run(main())"
      ],
      "metadata": {
        "colab": {
          "base_uri": "https://localhost:8080/"
        },
        "id": "xBb87vwD-48b",
        "outputId": "8d4c8b7e-fbda-428c-b58d-2f75a8ef1ddb"
      },
      "execution_count": 11,
      "outputs": [
        {
          "output_type": "stream",
          "name": "stderr",
          "text": [
            "/usr/local/lib/python3.10/dist-packages/whisper/__init__.py:146: FutureWarning: You are using `torch.load` with `weights_only=False` (the current default value), which uses the default pickle module implicitly. It is possible to construct malicious pickle data which will execute arbitrary code during unpickling (See https://github.com/pytorch/pytorch/blob/main/SECURITY.md#untrusted-models for more details). In a future release, the default value for `weights_only` will be flipped to `True`. This limits the functions that could be executed during unpickling. Arbitrary objects will no longer be allowed to be loaded via this mode unless they are explicitly allowlisted by the user via `torch.serialization.add_safe_globals`. We recommend you start setting `weights_only=True` for any use case where you don't have full control of the loaded file. Please open an issue on GitHub for any issues related to this experimental feature.\n",
            "  checkpoint = torch.load(fp, map_location=device)\n"
          ]
        }
      ]
    },
    {
      "cell_type": "code",
      "source": [
        "response_text"
      ],
      "metadata": {
        "colab": {
          "base_uri": "https://localhost:8080/",
          "height": 36
        },
        "id": "BzsP8wEwHAst",
        "outputId": "57fbbc21-6900-49d9-a11d-b2164d246fee"
      },
      "execution_count": 12,
      "outputs": [
        {
          "output_type": "execute_result",
          "data": {
            "text/plain": [
              "\" Hello? Is there somebody there? Can you hear me? You're scaring me. Who's you? I thought you were just joking\""
            ],
            "application/vnd.google.colaboratory.intrinsic+json": {
              "type": "string"
            }
          },
          "metadata": {},
          "execution_count": 12
        }
      ]
    }
  ]
}